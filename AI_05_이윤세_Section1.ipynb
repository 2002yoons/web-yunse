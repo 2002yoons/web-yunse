{
  "nbformat": 4,
  "nbformat_minor": 0,
  "metadata": {
    "colab": {
      "name": "AI_05_이윤세_Section1.ipynb",
      "private_outputs": true,
      "provenance": [],
      "collapsed_sections": [],
      "mount_file_id": "1sXlNawBohxXBnRyvGLuSOD5L0grn-z05",
      "authorship_tag": "ABX9TyPe065VGglY1bZiyInAiFon",
      "include_colab_link": true
    },
    "kernelspec": {
      "name": "python3",
      "display_name": "Python 3"
    },
    "language_info": {
      "name": "python"
    }
  },
  "cells": [
    {
      "cell_type": "markdown",
      "metadata": {
        "id": "view-in-github",
        "colab_type": "text"
      },
      "source": [
        "<a href=\"https://colab.research.google.com/github/2002yoons/web-yunse/blob/main/AI_05_%EC%9D%B4%EC%9C%A4%EC%84%B8_Section1.ipynb\" target=\"_parent\"><img src=\"https://colab.research.google.com/assets/colab-badge.svg\" alt=\"Open In Colab\"/></a>"
      ]
    },
    {
      "cell_type": "markdown",
      "metadata": {
        "id": "sECHWY3QJHRx"
      },
      "source": [
        "# EDA\n",
        "\n",
        "데이터 디멘션 확인\""
      ]
    },
    {
      "cell_type": "markdown",
      "metadata": {
        "id": "Yf9fsd3Spito"
      },
      "source": [
        " ## 1.데이터 초기 확인\n",
        "\n",
        "내용:\n",
        "*   불러오기\n",
        "*   피쳐확인\n",
        "*   디멘션확인\n",
        "*   결측치 확인 후 조치: 데이터가 정규분포가 따르지 않음(평균값으로 대체 불가) 유의미한 특성을 띄지 않으므로 *제거*\n",
        "*   무의미한 컬럼 제거: ['Unnamed: 0'] , ['Publisher']\n",
        "\n"
      ]
    },
    {
      "cell_type": "code",
      "metadata": {
        "id": "G97cI7LapSkW"
      },
      "source": [
        "from google.colab import drive\n",
        "drive.mount('/content/drive')"
      ],
      "execution_count": null,
      "outputs": []
    },
    {
      "cell_type": "code",
      "metadata": {
        "id": "wikAj08ypiVM"
      },
      "source": [
        "#라이브러리 불러오기\n",
        "import pandas as pd\n",
        "import seaborn as sns\n",
        "from scipy.stats import f_oneway\n",
        "from scipy.stats import chi2_contingency\n",
        "import matplotlib.pyplot as plt\n",
        "import warnings\n",
        "warnings.filterwarnings(\"ignore\")\n",
        "%matplotlib inline\n",
        "%config InlineBackend.figure_format='retina'\n",
        "import matplotlib as mpl\n",
        "mpl.rc(\"font\", family='AppleGothic')\n",
        "\n",
        "df_raw = pd.read_csv('/content/drive/MyDrive/game_data.csv')"
      ],
      "execution_count": null,
      "outputs": []
    },
    {
      "cell_type": "code",
      "metadata": {
        "id": "AfRUxcVBVysl"
      },
      "source": [
        "#피쳐 확인\n",
        "df_raw.columns"
      ],
      "execution_count": null,
      "outputs": []
    },
    {
      "cell_type": "code",
      "metadata": {
        "id": "dCM-KTRfZ8px"
      },
      "source": [
        "#디멘션 확인\n",
        "df_raw.shape"
      ],
      "execution_count": null,
      "outputs": []
    },
    {
      "cell_type": "code",
      "metadata": {
        "id": "6elc43-hZ9do"
      },
      "source": [
        "#결측치 확인\n",
        "df_raw.isnull().sum()"
      ],
      "execution_count": null,
      "outputs": []
    },
    {
      "cell_type": "code",
      "metadata": {
        "id": "ynJ1Uy5sqz-y"
      },
      "source": [
        "#결측치 확인 후 삭제\n",
        "df_raw.dropna(inplace=True)\n",
        "df_raw.drop(columns = ['Unnamed: 0','Publisher'],inplace = True)\n",
        "\n"
      ],
      "execution_count": null,
      "outputs": []
    },
    {
      "cell_type": "code",
      "metadata": {
        "id": "phHxfHVYMXL4"
      },
      "source": [
        "#변수 생성\n",
        "df = df_raw\n",
        "df_=df_raw\n"
      ],
      "execution_count": null,
      "outputs": []
    },
    {
      "cell_type": "markdown",
      "metadata": {
        "id": "OD-SLLb7yFvP"
      },
      "source": [
        "##  2. 데이터 2차 확인\n",
        "\n",
        "내용:\n",
        "*   출고량 피쳐, float으로 전환\n",
        "*   년도 통일\n",
        "*   '전지역 출고량' 피쳐 추가\n",
        "*   데이터셋 경량화: 전지역 출고량 100미만인 데이터는 무의미하다고 판단되어 제거 후 따로 저장\n",
        "\n",
        " \n",
        "\n",
        "\n"
      ]
    },
    {
      "cell_type": "code",
      "metadata": {
        "id": "IxrpzO91wIIK"
      },
      "source": [
        "# 출고량 데이터 타입을 숫자형으로 반환:\n",
        "def value_to_float(x):\n",
        "    if 'K' in x:     \n",
        "        return (float(x.replace('K','')))*1000\n",
        "    if 'M' in x:  \n",
        "        return (float(x.replace('M','')))*1000000\n",
        "    else: \n",
        "        return float(x)\n",
        "\n",
        "df['NA_Sales'] = df['NA_Sales'].apply(value_to_float)\n",
        "df['EU_Sales'] = df['EU_Sales'].apply(value_to_float)\n",
        "df['JP_Sales'] = df['JP_Sales'].apply(value_to_float)\n",
        "df['Other_Sales'] = df['Other_Sales'].apply(value_to_float)\n"
      ],
      "execution_count": null,
      "outputs": []
    },
    {
      "cell_type": "code",
      "metadata": {
        "id": "DAqXPYuQ6sGn"
      },
      "source": [
        "# 년도 바꾸는 함수 작성 후 적용\n",
        "def year_upgrade(x):\n",
        "    x = int(x)\n",
        "    x = str(x)\n",
        "    if len(x)==1 :\n",
        "        return int('200'+x)\n",
        "    if len(x)<3 and int(x)<21:\n",
        "        return int('20'+x)\n",
        "    if len(x)<3 and int(x)>21:\n",
        "        return int('19'+x)\n",
        "    else:\n",
        "        return x\n",
        "\n",
        "df['Year']= df['Year'].apply(year_upgrade).astype(int)\n",
        "\n"
      ],
      "execution_count": null,
      "outputs": []
    },
    {
      "cell_type": "code",
      "metadata": {
        "id": "0lPPoxJ3OZQH"
      },
      "source": [
        "#총 출고량 피쳐 추가\n",
        "df['Whole_Sales'] = df.iloc[:,4:8].sum(axis=1)\n",
        "df"
      ],
      "execution_count": null,
      "outputs": []
    },
    {
      "cell_type": "code",
      "metadata": {
        "id": "WG1jf_TgsssW"
      },
      "source": [
        "# 게임 중 전체지역 출고량 추가\n",
        "# 전체 출고량 100 미달인 데이터 삭제 후 df_simple에 저장\n",
        "df['Whole_Sales'] = df.iloc[:,4:8].sum(axis =1)\n",
        "filt=(df['Whole_Sales']<1000)\n",
        "df_simple = df.loc[~filt].sort_values(by='Whole_Sales').reset_index(drop = True)\n",
        "df_simple = pd.DataFrame(data = df_simple)"
      ],
      "execution_count": null,
      "outputs": []
    },
    {
      "cell_type": "code",
      "metadata": {
        "id": "UT6PAWkw67WM"
      },
      "source": [
        "df_simple"
      ],
      "execution_count": null,
      "outputs": []
    },
    {
      "cell_type": "markdown",
      "metadata": {
        "id": "-E6-5MoaJ_0T"
      },
      "source": [
        "# 데이터 분석"
      ]
    },
    {
      "cell_type": "markdown",
      "metadata": {
        "id": "KE96-bBFZ3mL"
      },
      "source": [
        "## 1.지역에 따라 선호하는 게임 장르가 달랐을까?\n"
      ]
    },
    {
      "cell_type": "code",
      "metadata": {
        "id": "I9HOKiHlkp5M"
      },
      "source": [
        "#데이터 셋 결합 index: 장르, columns = 지역\n",
        "df_region_genre = df[['Genre','NA_Sales', 'EU_Sales', 'JP_Sales', 'Other_Sales']]\n",
        "df_region_genre = df_region_genre.groupby(by = 'Genre',as_index = True).sum().astype('category')\n",
        "\n",
        "#카이검정 \n",
        "chi2 = chi2_contingency(df_region_genre)\n",
        "chi2[1]"
      ],
      "execution_count": null,
      "outputs": []
    },
    {
      "cell_type": "code",
      "metadata": {
        "id": "poGwV2XB5OeE"
      },
      "source": [
        "#p값이 0이므로,지역에 따라 선호하는 게임 장르는 같다고 보기 힘듭니다."
      ],
      "execution_count": null,
      "outputs": []
    },
    {
      "cell_type": "markdown",
      "metadata": {
        "id": "4s7HOOcM7o1E"
      },
      "source": [
        "##  2.2010년도 부터 2020년동안 지역에 따라 선호되는 장르는 달랐을까?"
      ]
    },
    {
      "cell_type": "code",
      "metadata": {
        "id": "-BmkN-6l8LXD"
      },
      "source": [
        "#2010년도 이후 장르별 출고량\n",
        "filt_2010 = (df_simple['Year']>=2010)\n",
        "df_2010 = df_simple.loc[filt_2010].groupby(by = 'Genre').sum().iloc[:,1:-1]\n",
        "#카이검정\n",
        "chi2_2010 = chi2_contingency(df_2010)\n",
        "chi2_2010"
      ],
      "execution_count": null,
      "outputs": []
    },
    {
      "cell_type": "markdown",
      "metadata": {
        "id": "nVje3D2SJmUw"
      },
      "source": [
        "##  3.년도별 또는 세대별로 게임 트렌드가 다를까?\n",
        "\n",
        "\n",
        "\n",
        "\n"
      ]
    },
    {
      "cell_type": "markdown",
      "metadata": {
        "id": "BIil5aQWnNXL"
      },
      "source": [
        "### 3-a 년도별 총 출고량 그래프 "
      ]
    },
    {
      "cell_type": "code",
      "metadata": {
        "id": "jPttshbZQu7V"
      },
      "source": [
        "#장르에 따른 년도별 총 출고량 그래프 \n",
        "sns.set_theme(style=\"darkgrid\")\n",
        "plt.figure(figsize=(22, 7))\n",
        "sns.lineplot(data=df_simple,x='Year',y='Whole_Sales',hue= 'Genre')\n"
      ],
      "execution_count": null,
      "outputs": []
    },
    {
      "cell_type": "markdown",
      "metadata": {
        "id": "TuhVGQ1Ur-Vb"
      },
      "source": [
        "### 3-a. 년도별 게임 트렌드 분석"
      ]
    },
    {
      "cell_type": "code",
      "metadata": {
        "id": "xorNz3YJOOH7"
      },
      "source": [
        "#년도와 장르별로 카이검정 실행\n",
        "a = df_simple[['Year','Genre']].astype('category')\n",
        "obs =pd.crosstab(a['Year'],a['Genre'])\n",
        "chi2_contingency(obs)[1]"
      ],
      "execution_count": null,
      "outputs": []
    },
    {
      "cell_type": "markdown",
      "metadata": {
        "id": "0hC-I1SJlabj"
      },
      "source": [
        "### 3-b. 세대별 게임 트렌드 분석"
      ]
    },
    {
      "cell_type": "code",
      "metadata": {
        "id": "BNetLAesteny"
      },
      "source": [
        "# 년도와 장르, 총 출고량 데이터 조합\n",
        "df_Genre = df_simple[['Year','Genre','Whole_Sales']]\n",
        "#년도 피쳐를 10년 단위로 카테고리화 후 '세대' 피쳐 생성\n",
        "category = pd.cut(df_Genre['Year'],bins=[1980,1990,2000,2010,2020],labels=['80년대','90년대','00년대','10년대'])\n",
        "df_Genre.insert(2,'세대', category)\n",
        "#세대와 장르 데이터 카테고리 타입 변환 후 크로스탭 생성\n",
        "df_Genre[['세대','Genre']].astype('category')\n",
        "obs_year_genre = pd.crosstab(df_Genre['세대'],df_Genre['Genre'])\n",
        "obs_year_genre\n",
        "#카이검정\n",
        "chi2_year_genre = chi2_contingency(obs_year_genre)\n",
        "chi2_year_genre[1]"
      ],
      "execution_count": null,
      "outputs": []
    },
    {
      "cell_type": "markdown",
      "metadata": {
        "id": "Uw2er9lhrM6v"
      },
      "source": [
        "결론: 게임 장르는 지역 또는 세대와 연관성이 없다. \n"
      ]
    },
    {
      "cell_type": "markdown",
      "metadata": {
        "id": "LAsqYTIV1ilO"
      },
      "source": [
        "## 4.지역 별 출고량이 높은 게임의 분석 및 시각화"
      ]
    },
    {
      "cell_type": "markdown",
      "metadata": {
        "id": "tW8dJt2sYLJB"
      },
      "source": [
        "### 4-a 1980년대 이후 전지역 장르별 출고량 비율\n"
      ]
    },
    {
      "cell_type": "markdown",
      "metadata": {
        "id": "kBl-PzXGHMe7"
      },
      "source": [
        ""
      ]
    },
    {
      "cell_type": "code",
      "metadata": {
        "id": "uQ1t_C_ggOX1"
      },
      "source": [
        "#\n",
        "df_wholeSales = df.groupby(by = 'Genre',as_index=True).sum().iloc[:,-1:].astype(float)\n",
        "df_wholeSales2 = df_simple.loc[filt_2010].groupby(by = 'Genre',as_index=True).sum().iloc[:,-1:].astype(float)\n",
        "df_wholeSales3 = df_simple.loc[~filt_2010].groupby(by = 'Genre',as_index=True).sum().iloc[:,-1:].astype(float)\n",
        "df_wholeSales12 =pd.concat([df_wholeSales3,df_wholeSales2],axis=1,)\n",
        "df_wholeSales12.plot.pie(subplots=True, figsize=(18, 14),autopct='%.2f%%',)\n",
        "#좌: 1980년도부터 2010년도 전까지 장르별 총 출고량 비율///우: 2010년도부터 현재까지 총 출고량 비율\n",
        "#결론: 액션과 슈팅 장르의 비중이 점점 커짐."
      ],
      "execution_count": null,
      "outputs": []
    },
    {
      "cell_type": "markdown",
      "metadata": {
        "id": "SWilJ56QOSo6"
      },
      "source": [
        "### 4-a 지역별 총 출고량\n",
        "\n"
      ]
    },
    {
      "cell_type": "code",
      "metadata": {
        "id": "ShSYHkmOzBLn"
      },
      "source": [
        "# 지역별 총 출고량 \n",
        "df_Sales=df_.iloc[:,4:8].sum(axis=0).reset_index()\n",
        "df_Sales.columns = ['region','Sales']\n",
        "sns.barplot(data=df_Sales,x='region',y='Sales')"
      ],
      "execution_count": null,
      "outputs": []
    },
    {
      "cell_type": "markdown",
      "metadata": {
        "id": "NIkD7NKOnY7o"
      },
      "source": [
        "### 4-b 북미지역 출고량 TOP 10 "
      ]
    },
    {
      "cell_type": "code",
      "metadata": {
        "id": "fGC0OS6lVyHe"
      },
      "source": [
        "#북미지역 출고량 top 10 장르별 그래픽\n",
        "\n",
        "#데이터셋 조합\n",
        "NA_ = df_simple.sort_values(by ='NA_Sales',ascending = False)\n",
        "NA_top10 = NA_.reset_index(drop =True).iloc[0:10,0:5]\n",
        "#데이터셋 장르별 카테고리화\n",
        "NA_Genre = NA_top10.groupby('Genre')['NA_Sales'].sum().reset_index().sort_values(by ='NA_Sales',ascending =False)\n",
        "NA_Genre\n",
        "#그래프 작성\n",
        "fig = plt.figure(figsize=(25, 10))\n",
        "ax1 = fig.add_subplot(2, 1, 1)\n",
        "ax2 = fig.add_subplot(2, 1, 2)\n",
        "\n",
        "\n",
        "plt.subplot(212)\n",
        "plt.title('North America')\n",
        "sns.barplot(x=\"Genre\", y=\"NA_Sales\", data=NA_Genre)\n",
        "plt.xticks(fontsize=16)\n",
        "plt.yticks(fontsize=10)\n",
        "plt.grid\n",
        "\n",
        "plt.subplot(211)\n",
        "plt.title('North America')\n",
        "sns.barplot(x=\"Name\", y=\"NA_Sales\", data=NA_top10,hue='Genre')\n",
        "plt.xticks(fontsize=10, rotation=20)\n",
        "plt.grid"
      ],
      "execution_count": null,
      "outputs": []
    },
    {
      "cell_type": "markdown",
      "metadata": {
        "id": "wupz5h2pnj1-"
      },
      "source": [
        "### 4-c 유럽지역 출고량 TOP 10 "
      ]
    },
    {
      "cell_type": "code",
      "metadata": {
        "id": "oAAItpLwgnj9"
      },
      "source": [
        "#유럽지역 출고량 top 10 장르별 그래픽\n",
        "EU_ = df_simple.sort_values(by ='EU_Sales',ascending = False)\n",
        "EU_top10 = EU_.reset_index(drop =True).iloc[0:10,0:6].drop(columns = 'NA_Sales')\n",
        "\n",
        "EU_Genre = EU_top10.groupby('Genre')['EU_Sales'].sum().reset_index().sort_values(by ='EU_Sales',ascending =False)\n",
        "\n",
        "\n",
        "fig = plt.figure(figsize=(25, 10))\n",
        "ax1 = fig.add_subplot(2, 1, 1)\n",
        "ax2 = fig.add_subplot(2, 1, 2)\n",
        "\n",
        "\n",
        "plt.subplot(212)\n",
        "sns.barplot(x=\"Genre\", y=\"EU_Sales\", data=EU_)\n",
        "plt.xticks(fontsize=16)\n",
        "plt.yticks(fontsize=10)\n",
        "\n",
        "plt.grid\n",
        "\n",
        "plt.subplot(211)\n",
        "sns.barplot(x=\"Name\", y=\"EU_Sales\", data=EU_top10,hue='Genre')\n",
        "plt.xticks(fontsize=10, rotation=20)\n",
        "plt.grid"
      ],
      "execution_count": null,
      "outputs": []
    },
    {
      "cell_type": "markdown",
      "metadata": {
        "id": "0P0iKqmWnmXS"
      },
      "source": [
        "### 4-d 일본지역 출고량 TOP 10 "
      ]
    },
    {
      "cell_type": "code",
      "metadata": {
        "id": "spvcF8yJh3EC"
      },
      "source": [
        "#일본지역 출고량 top 10 장르별 그래픽\n",
        "JP_ = df_simple.sort_values(by ='JP_Sales',ascending = False)\n",
        "JP_top10 = JP_.reset_index(drop =True).iloc[0:10,0:7].drop(columns=['NA_Sales','EU_Sales'])\n",
        "\n",
        "\n",
        "JP_Genre = JP_top10.groupby('Genre')['JP_Sales'].sum().reset_index().sort_values(by ='JP_Sales',ascending =False)\n",
        "\n",
        "\n",
        "fig = plt.figure(figsize=(25, 10))\n",
        "ax1 = fig.add_subplot(2, 1, 1)\n",
        "ax2 = fig.add_subplot(2, 1, 2)\n",
        "\n",
        "\n",
        "plt.subplot(212)\n",
        "sns.barplot(x=\"Genre\", y=\"JP_Sales\", data=JP_)\n",
        "plt.xticks(fontsize=16)\n",
        "plt.yticks(fontsize=10)\n",
        "plt.grid\n",
        "\n",
        "plt.subplot(211)\n",
        "sns.barplot(x=\"Name\", y=\"JP_Sales\", data=JP_top10,hue='Genre')\n",
        "plt.xticks(fontsize=10, rotation=20)\n",
        "plt.grid"
      ],
      "execution_count": null,
      "outputs": []
    },
    {
      "cell_type": "markdown",
      "metadata": {
        "id": "27BLT_DJnp7F"
      },
      "source": [
        "### 4-e 기타지역 출고량 TOP 10 "
      ]
    },
    {
      "cell_type": "code",
      "metadata": {
        "id": "JjUQm6_tDsEK"
      },
      "source": [
        "Oth_ = df_simple.sort_values(by ='Other_Sales',ascending = False)\n",
        "Oth_top10 = Oth_.reset_index(drop =True).iloc[0:10,0:8].drop(columns= ['NA_Sales','EU_Sales','JP_Sales'])\n",
        "\n",
        "Oth_Genre = Oth_top10.groupby('Genre')['Other_Sales'].sum().reset_index().sort_values(by ='Other_Sales',ascending =False)\n",
        "\n",
        "\n",
        "fig = plt.figure(figsize=(25, 10))\n",
        "ax1 = fig.add_subplot(2, 1, 1)\n",
        "ax2 = fig.add_subplot(2, 1, 2)\n",
        "\n",
        "\n",
        "plt.subplot(212)\n",
        "sns.barplot(x=\"Genre\", y=\"Other_Sales\", data=Oth_)\n",
        "plt.xticks(fontsize=16)\n",
        "plt.yticks(fontsize=10)\n",
        "plt.grid\n",
        "\n",
        "plt.subplot(211)\n",
        "sns.barplot(x=\"Name\", y=\"Other_Sales\", data=Oth_top10,hue='Genre')\n",
        "plt.xticks(fontsize=10, rotation=20)\n",
        "plt.grid\n",
        "\n"
      ],
      "execution_count": null,
      "outputs": []
    },
    {
      "cell_type": "code",
      "metadata": {
        "id": "Np8-eK1Eyxdp"
      },
      "source": [
        "#그렇다면, 과연 과거의 데이터가 현재 게임 설계에 도움이 될까?\n"
      ],
      "execution_count": null,
      "outputs": []
    },
    {
      "cell_type": "markdown",
      "metadata": {
        "id": "urw2LemydQnQ"
      },
      "source": [
        "## 5. 기존 IP를 이용하는 건 어떨까?"
      ]
    },
    {
      "cell_type": "code",
      "metadata": {
        "id": "CnJLjlqZZkV9"
      },
      "source": [
        "#포켓몬스터 IP 게임장르\n",
        "df_pok = df[df_['Name'].str.match('Pok')]\n",
        "a = df_pok['Genre'].value_counts().reset_index()\n",
        "a.columns =['Genre','counts']\n",
        "a\n",
        "#총 49개 결과"
      ],
      "execution_count": null,
      "outputs": []
    },
    {
      "cell_type": "code",
      "metadata": {
        "id": "EdqGC5JFFrOR"
      },
      "source": [
        "#마리오 IP 게임장르\n",
        "df_mario = df[df_['Name'].str.match('Mario')]\n",
        "b = df_mario['Genre'].value_counts().reset_index()\n",
        "b.columns =['Genre','counts']\n",
        "#총 64개\n"
      ],
      "execution_count": null,
      "outputs": []
    },
    {
      "cell_type": "code",
      "metadata": {
        "id": "6ZM4OjvJGHUb"
      },
      "source": [
        "#마리오 포켓몬 장르 별 차트 \n",
        "\n",
        "fig = plt.figure(figsize=(18, 10))\n",
        "ax1 = fig.add_subplot(2, 2, 1)\n",
        "ax2 = fig.add_subplot(2, 2, 2)\n",
        "ax3 = fig.add_subplot(2, 2, 3)\n",
        "ax4 = fig.add_subplot(2, 2, 4)\n",
        "\n",
        "#포켓몬 IP 별 장르수 그래프\n",
        "plt.subplot(221)\n",
        "sns.barplot(data=a, x = 'Genre',y='counts')\n",
        "plt.title('pokemon IP')\n",
        "plt.xticks(fontsize=10, rotation=20)\n",
        "plt.grid\n",
        "#마리오 IP 별 장르수 그래프\n",
        "plt.subplot(222)\n",
        "sns.barplot(data=b, x = 'Genre',y='counts')\n",
        "plt.xticks(fontsize=10, rotation=20)\n",
        "plt.title('Mario IP')\n",
        "plt.grid\n",
        "#포켓몬 IP 장르별 출고량 그래프\n",
        "plt.subplot(223)\n",
        "sns.barplot(data= df_pok, x = 'Genre',y='Whole_Sales')\n",
        "plt.xticks(fontsize=10, rotation=20)\n",
        "plt.grid\n",
        "#마리오 IP 장르별 출고량 그래프\n",
        "plt.subplot(224)\n",
        "sns.barplot(data= df_mario, x = 'Genre',y='Whole_Sales')\n",
        "plt.xticks(fontsize=10, rotation=20)\n",
        "plt.grid\n"
      ],
      "execution_count": null,
      "outputs": []
    },
    {
      "cell_type": "markdown",
      "metadata": {
        "id": "TEykU-BMDWgy"
      },
      "source": [
        "#결론:\n",
        "\n",
        "분석 결과:\n",
        "\n",
        "1.지역에 따른 게임 장르가 다르므로 집중적인 공략이 필요\n",
        "\n",
        "2.북미지역 출고량 최다, 액션 장르가 대세.\n",
        "\n",
        "3.세대별로 게임 트렌드가 다르기에 2021년인 지금 다른 장르가 핫해질 가능성 유\n",
        "\n",
        "4 IP를 연장시키기엔 리스크가 큼\n",
        "\n",
        "5.클라우드 게임의 선두주자는 마이크로소프트, 즉 xbox 플랫폼이 전략적으로 \n",
        "유리함.\n",
        "\n",
        "결론: 새로운 ip로 북미지역을 타게팅한 액션장르 게임을 xbox에 출시.\n",
        "\n",
        "\n",
        "\n"
      ]
    }
  ]
}